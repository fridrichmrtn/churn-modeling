{
 "cells": [
  {
   "cell_type": "markdown",
   "metadata": {},
   "source": [
    "### Campaign profit estimation\n",
    "\n",
    "#### Expected campaign profit\n",
    "\n",
    "The classical approach to retention management is to identify the customers at high risk of churning and persuade them to stay active with promotional offers. Predictive solutions are, however, primarily evaluated in terms of the classification task, not in the retention management context. To reflect on those additional steps, we propose an evaluation procedure inspired by the retention campaign (Neslin et al., 2006) and generated profit frameworks (Tamaddoni et al., 2015).\n",
    "However, we focus on  development of customer value using conservative $CAP$ perspective, which allows us to differentiate customer profit on individual level and indicate changes in customer behavior. We also allow for differentiation of the parameters across the customer base and include uncertainty in the analysis.\n",
    "\n",
    "If individual customer $i$ is included in retention campaign, we expect its profit to amount to\n",
    "\n",
    "$$ \\pi_i^{expected} = p_i[\\gamma_i (CAP_i-\\delta)] + (1-p_i)[-\\psi_i \\delta]$$\n",
    "\n",
    "where $p_i$ is estimated probability churning, $\\gamma_i$ is probability of customer being convinced by retention offer to stay, $\\psi_i$ is probability of staying customer to accept the retention offer, and $\\delta$ is cost of the retention offer.\n",
    "As a result, we are able to estimate expected profit/loss of including said customer into the retention campaign using the probability of churning $p_i$.\n",
    "For retention campaign, we simply calculate the expected profit as\n",
    "\n",
    "$$\\Pi^{expected} = \\sum{\\pi_i^{expected}}$$\n",
    "\n",
    "where $\\pi_i$ represents the expected profit from including customer $i$ in the retention activity. Now, we sort customers with respect to the $\\pi_i$ and consider only customers that positively contribute to the $\\Pi$.\n",
    "In other words, we rank customers from highest to lowest $\\pi_i$ and construct the cumulative profit curve and find its maximum. Thus, we calculate both maximum estimated campaign profit and campaign size.\n",
    "\n",
    "\n",
    "\n"
   ]
  },
  {
   "cell_type": "markdown",
   "metadata": {},
   "source": [
    "#### Actual campaign profit\n",
    "\n",
    "Over the previous paragraphs, we sum up how to use predictive solutions to target right customers. The approach however does not reflect on actual predictive performace.\n",
    "To address that, we extend on previous equations with target labels in mind. If individual customer $i$ is included in retention campaign, we calculate the actual profit as\n",
    "\n",
    "$$ \\pi_i^{actual} = y[\\gamma_i(CAP_i-\\delta)]+(1-y)[-\\psi_i\\delta]$$\n",
    "\n",
    "where $y$ denotes binary target variable. For the whole retention campaign, we simply calculate the expected profit as\n",
    "\n",
    "$$\\Pi^{actual} = \\sum{\\pi_i^{actual}}$$\n",
    "\n",
    "Please note that we use this approach for paper testing (campaign not realized).\n",
    "\n",
    "#### Simulation procedure\n",
    "\n",
    "As $\\gamma_i$ and $\\psi_i$ are unknown to us, we estimate their impact using simulation procedure with 1000 draws. Similarly to Tamaddoni et al. (2015), we expect them to follow distributions with\n",
    "$ \\gamma_i = Beta(20.5, 116.1) $, $E(\\gamma_i)=0.15$ and $ \\psi_i = Beta(9, 1) $ with $E(\\psi_i)=0.9$.\n",
    "This allows us to include heterogenous redemption rates and uncertainty into our analysis."
   ]
  },
  {
   "cell_type": "markdown",
   "metadata": {},
   "source": [
    "### Example"
   ]
  },
  {
   "cell_type": "code",
   "execution_count": 10,
   "metadata": {},
   "outputs": [
    {
     "name": "stderr",
     "output_type": "stream",
     "text": [
      "/home/mf/github/churn-modeling/.env/lib/python3.8/site-packages/sklearn/preprocessing/_label.py:98: DataConversionWarning: A column-vector y was passed when a 1d array was expected. Please change the shape of y to (n_samples, ), for example using ravel().\n",
      "  y = column_or_1d(y, warn=True)\n",
      "/home/mf/github/churn-modeling/.env/lib/python3.8/site-packages/sklearn/preprocessing/_label.py:98: DataConversionWarning: A column-vector y was passed when a 1d array was expected. Please change the shape of y to (n_samples, ), for example using ravel().\n",
      "  y = column_or_1d(y, warn=True)\n",
      "/home/mf/github/churn-modeling/.env/lib/python3.8/site-packages/sklearn/preprocessing/_label.py:133: DataConversionWarning: A column-vector y was passed when a 1d array was expected. Please change the shape of y to (n_samples, ), for example using ravel().\n",
      "  y = column_or_1d(y, warn=True)\n",
      "/home/mf/github/churn-modeling/.env/lib/python3.8/site-packages/sklearn/preprocessing/_label.py:98: DataConversionWarning: A column-vector y was passed when a 1d array was expected. Please change the shape of y to (n_samples, ), for example using ravel().\n",
      "  y = column_or_1d(y, warn=True)\n",
      "/home/mf/github/churn-modeling/.env/lib/python3.8/site-packages/sklearn/preprocessing/_label.py:133: DataConversionWarning: A column-vector y was passed when a 1d array was expected. Please change the shape of y to (n_samples, ), for example using ravel().\n",
      "  y = column_or_1d(y, warn=True)\n",
      "/home/mf/github/churn-modeling/.env/lib/python3.8/site-packages/sklearn/preprocessing/_label.py:98: DataConversionWarning: A column-vector y was passed when a 1d array was expected. Please change the shape of y to (n_samples, ), for example using ravel().\n",
      "  y = column_or_1d(y, warn=True)\n",
      "/home/mf/github/churn-modeling/.env/lib/python3.8/site-packages/sklearn/preprocessing/_label.py:133: DataConversionWarning: A column-vector y was passed when a 1d array was expected. Please change the shape of y to (n_samples, ), for example using ravel().\n",
      "  y = column_or_1d(y, warn=True)\n",
      "/home/mf/github/churn-modeling/.env/lib/python3.8/site-packages/sklearn/preprocessing/_label.py:98: DataConversionWarning: A column-vector y was passed when a 1d array was expected. Please change the shape of y to (n_samples, ), for example using ravel().\n",
      "  y = column_or_1d(y, warn=True)\n",
      "/home/mf/github/churn-modeling/.env/lib/python3.8/site-packages/sklearn/preprocessing/_label.py:133: DataConversionWarning: A column-vector y was passed when a 1d array was expected. Please change the shape of y to (n_samples, ), for example using ravel().\n",
      "  y = column_or_1d(y, warn=True)\n",
      "/home/mf/github/churn-modeling/.env/lib/python3.8/site-packages/sklearn/preprocessing/_label.py:98: DataConversionWarning: A column-vector y was passed when a 1d array was expected. Please change the shape of y to (n_samples, ), for example using ravel().\n",
      "  y = column_or_1d(y, warn=True)\n",
      "/home/mf/github/churn-modeling/.env/lib/python3.8/site-packages/sklearn/preprocessing/_label.py:133: DataConversionWarning: A column-vector y was passed when a 1d array was expected. Please change the shape of y to (n_samples, ), for example using ravel().\n",
      "  y = column_or_1d(y, warn=True)\n"
     ]
    },
    {
     "name": "stdout",
     "output_type": "stream",
     "text": [
      "acc:0.9290540540540541\n",
      "f1:0.9557894736842105\n",
      "precision:0.9497907949790795\n",
      "recall:0.961864406779661\n",
      "roc_auc:0.9730225988700565\n"
     ]
    }
   ],
   "source": [
    "#\n",
    "##\n",
    "### LOAD DATA\n",
    "\n",
    "import pandas as pd\n",
    "import numpy as np\n",
    "\n",
    "def _optimize_numeric_dtypes(df):\n",
    "    import pandas as pd\n",
    "    float_cols = df.select_dtypes(\"float\").columns\n",
    "    int_cols = df.select_dtypes(\"integer\").columns\n",
    "    df[float_cols] = df[float_cols].\\\n",
    "        apply(pd.to_numeric, downcast=\"float\")\n",
    "    df[int_cols] = df[int_cols].\\\n",
    "        apply(pd.to_numeric, downcast=\"integer\")\n",
    "    return df\n",
    "\n",
    "data = _optimize_numeric_dtypes(\n",
    "    pd.read_parquet(\"../data/customer_model/retailrocket/\"))\n",
    "\n",
    "data = data.sort_values(\"week_step\", ascending=False)\n",
    "data[\"prev_target_cap\"] = data.groupby([\"user_id\"], as_index=False).target_cap.shift(-1).fillna(0)\n",
    "\n",
    "out_cols = [\"user_id\", \"row_id\", \"target_event\",\n",
    "    \"target_revenue\", \"week_step\", \"target_cap\",\n",
    "    \"cap\", \"cap_month_lag0\", \"cap_month_lag1\",\n",
    "    \"cap_month_lag2\", \"cap_month_lag3\", \"cap_month_ma3\",\n",
    "    \"prev_target_cap\"]\n",
    "feat_cols = [c for c in data.columns if c not in set(out_cols)]\n",
    "target_cols = [\"target_event\"]\n",
    "\n",
    "trf = data.week_step>5\n",
    "tef = data.week_step==5\n",
    "\n",
    "X_train, y_train = data.loc[trf,feat_cols], data.loc[trf,target_cols]\n",
    "X_test, y_test = data.loc[tef,feat_cols], data.loc[tef,target_cols]\n",
    "\n",
    "#\n",
    "##\n",
    "### FIT CLASSIFIER\n",
    "\n",
    "from lightgbm import LGBMClassifier\n",
    "from sklearn.calibration import CalibratedClassifierCV\n",
    "from sklearn.metrics import accuracy_score, precision_score, recall_score, f1_score, roc_auc_score\n",
    "lgbm = CalibratedClassifierCV(base_estimator=LGBMClassifier(),\n",
    "    method=\"sigmoid\", cv=5)\n",
    "lgbm.fit(X_train, y_train)\n",
    "\n",
    "#\n",
    "##\n",
    "### EVALUATE USING STANDARD METRICS\n",
    "\n",
    "y_pred = lgbm.predict(X_test)\n",
    "y_pred_proba = lgbm.predict_proba(X_test)[:,1]\n",
    "\n",
    "print(f\"acc:{accuracy_score(y_test, y_pred)}\")\n",
    "print(f\"f1:{f1_score(y_test, y_pred)}\")\n",
    "print(f\"precision:{precision_score(y_test, y_pred)}\")\n",
    "print(f\"recall:{recall_score(y_test, y_pred)}\")\n",
    "print(f\"roc_auc:{roc_auc_score(y_test, y_pred_proba)}\")"
   ]
  },
  {
   "cell_type": "code",
   "execution_count": 11,
   "metadata": {},
   "outputs": [
    {
     "name": "stdout",
     "output_type": "stream",
     "text": [
      "campaign size: 0.223\n",
      "expected campaign profit: 73215.54\n",
      "actual campaign profit: 68572.01\n"
     ]
    }
   ],
   "source": [
    "#\n",
    "##\n",
    "###  EVALUATE USING PROFIT METRICS\n",
    "\n",
    "df = data.loc[tef,[\"user_id\",\"target_event\", \"target_cap\", \"prev_target_cap\"]]\n",
    "df[\"y_pred_proba\"] = y_pred_proba\n",
    "\n",
    "# NOTE: JUSTIFY THE CONFIG\n",
    "config = {\n",
    "    \"gamma\":{\"alpha\":2.04, \"beta\":202.04},\n",
    "    \"delta\":7500, \n",
    "    \"psi\":{\"alpha\":6.12, \"beta\":3.15},\n",
    "    \"n_iter\":1000,\n",
    "    \"seed\":1}\n",
    "\n",
    "gamma = config[\"gamma\"]\n",
    "delta = config[\"delta\"]\n",
    "psi = config[\"psi\"]\n",
    "n_iter = config[\"n_iter\"]\n",
    "seed = config[\"seed\"]    \n",
    "\n",
    "n_users = df.user_id.nunique()\n",
    "sp = []\n",
    "for i in range(n_iter):\n",
    "    gamma_psi = pd.DataFrame.from_dict({\n",
    "        \"user_id\":df.user_id.unique(),\n",
    "        \"gamma\":np.random.beta(gamma[\"alpha\"], gamma[\"beta\"], size=n_users),\n",
    "        \"psi\":np.random.beta(psi[\"alpha\"], psi[\"beta\"], size=n_users)})\n",
    "    temp = df.merge(gamma_psi, on=[\"user_id\"])\n",
    "    temp[\"ecp\"] = (temp[\"y_pred_proba\"]*temp[\"gamma\"]*(temp[\"prev_target_cap\"]-delta)\n",
    "        + (1-temp[\"y_pred_proba\"])*(-temp[\"psi\"]*delta))\n",
    "    temp[\"acp\"] = (temp[\"target_event\"]*temp[\"gamma\"]*(temp[\"target_cap\"]-delta)\n",
    "        + (1-temp[\"target_event\"])*(-temp[\"psi\"]*delta))\n",
    "    sp.append(temp.loc[:,[\"user_id\",\"ecp\", \"acp\", \"target_event\", \"y_pred_proba\" ,\"target_cap\"]])\n",
    "sp = pd.concat(sp)\n",
    "sp = sp.groupby([\"user_id\"], as_index=False).mean().sort_values(\"ecp\", ascending=False)\n",
    "sp[\"cecp\"] = sp.ecp.cumsum()\n",
    "sp[\"perc\"] = sp.ecp.rank(ascending=False, pct=True) \n",
    "sp[\"cacp\"] = sp.acp.cumsum()\n",
    "\n",
    "print(\"campaign size: {:.3f}\".format(sp.perc[sp.cecp.idxmax()]))\n",
    "print(\"expected campaign profit: {:.2f}\".format( sp.cecp.max()))\n",
    "print(\"actual campaign profit: {:.2f}\".format(sp.cacp[sp.cecp.idxmax()]))"
   ]
  },
  {
   "cell_type": "markdown",
   "metadata": {},
   "source": [
    "In the plot below, we can see the cumulative sum of campaign expected profit and campaign actual profit with respect to the percentiles., ranked according to the former one. We pick that dimension as it is related to the actual ranking procedure and the campaign size. As a result, we are able to diagnose the classifiers' ranking abilities, unlike Tamaddoni et al. (2015).\n",
    "We see that the procedure struggles in the middle part of the plot."
   ]
  },
  {
   "cell_type": "code",
   "execution_count": 12,
   "metadata": {},
   "outputs": [
    {
     "data": {
      "image/png": "[encoded data removed]",
      "text/plain": [
       "<Figure size 720x504 with 1 Axes>"
      ]
     },
     "metadata": {
      "needs_background": "light"
     },
     "output_type": "display_data"
    }
   ],
   "source": [
    "import matplotlib.pyplot as plt\n",
    "import seaborn as sns\n",
    "def plot_simulated_profit(sp):    \n",
    "    f, a = plt.subplots(1,1, figsize=(10,7))\n",
    "    sns.lineplot(#data=sp,\n",
    "        x=sp.perc, y=sp.cecp, legend=False,\n",
    "        color=sns.color_palette(\"rocket\")[0], ax=a);\n",
    "    sns.lineplot(#data=sp,\n",
    "        x=sp.perc, y=sp.cacp, legend=False,\n",
    "        color=sns.color_palette(\"rocket\")[3], ax=a);\n",
    "    a.set_ylabel(\"profit\");\n",
    "    a.set_xlabel(\"percentile\");\n",
    "    a.legend(loc=\"lower left\",\n",
    "        labels=[\"expected profit\", \"actual profit\"]);\n",
    "    a.axhline(0, linestyle=\"dotted\", c=\"k\");\n",
    "    return None\n",
    "plot_simulated_profit(sp)    "
   ]
  }
 ],
 "metadata": {
  "kernelspec": {
   "display_name": "Python 3.8.10 ('.env': venv)",
   "language": "python",
   "name": "python3"
  },
  "language_info": {
   "codemirror_mode": {
    "name": "ipython",
    "version": 3
   },
   "file_extension": ".py",
   "mimetype": "text/x-python",
   "name": "python",
   "nbconvert_exporter": "python",
   "pygments_lexer": "ipython3",
   "version": "3.8.10"
  },
  "orig_nbformat": 4,
  "vscode": {
   "interpreter": {
    "hash": "0302efd4727f45c27e6e7330619db7bcf8ae8a56f076c44e120407f8390c5d65"
   }
  }
 },
 "nbformat": 4,
 "nbformat_minor": 2
}
