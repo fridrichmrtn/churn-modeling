{
 "cells": [
  {
   "cell_type": "markdown",
   "metadata": {},
   "source": [
    "### Campaign profit estimation\n",
    "\n",
    "#### Expected campaign profit\n",
    "\n",
    "The classical approach to retention management is to identify the customers at high risk of churning and persuade them to stay active with promotional offers. Predictive solutions are, however, primarily evaluated in terms of the classification task, not in the retention management context. To reflect on those additional steps, we propose an evaluation procedure inspired by the retention campaign (Neslin et al., 2006) and generated profit frameworks (Tamaddoni et al., 2015).\n",
    "However, we focus on  development of customer value using conservative $CAP$ perspective, which allows us to differentiate customer profit on individual level and indicate changes in customer behavior. We also allow for differentiation of the parameters across the customer base and include uncertainty in the analysis.\n",
    "\n",
    "If individual customer $i$ is included in retention campaign, we expect its profit to amount to\n",
    "\n",
    "$$ \\pi_i^{expected} = p_i[\\gamma_i (CAP_i-\\delta)] + (1-p_i)[-\\psi_i \\delta]$$\n",
    "\n",
    "where $p_i$ is estimated probability churning, $\\gamma_i$ is probability of customer being convinced by retention offer to stay, $\\psi_i$ is probability of staying customer to accept the retention offer, and $\\delta$ is cost of the retention offer.\n",
    "As a result, we are able to estimate expected profit/loss of including said customer into the retention campaign using the probability of churning $p_i$.\n",
    "For retention campaign, we simply calculate the expected profit as\n",
    "\n",
    "$$\\Pi^{expected} = \\sum{\\pi_i^{expected}}$$\n",
    "\n",
    "where $\\pi_i$ represents the expected profit from including customer $i$ in the retention activity. Now, we sort customers with respect to the $\\pi_i$ and consider only customers that positively contribute to the $\\Pi$.\n",
    "In other words, we rank customers from highest to lowest $\\pi_i$ and construct the cumulative profit curve and find its maximum. Thus, we calculate both maximum estimated campaign profit and campaign size.\n",
    "\n",
    "\n",
    "\n"
   ]
  },
  {
   "cell_type": "markdown",
   "metadata": {},
   "source": [
    "#### Actual campaign profit\n",
    "\n",
    "Over the previous paragraphs, we sum up how to use predictive solutions to target right customers. The approach however does not reflect on actual predictive performace.\n",
    "To address that, we extend on previous equations with target labels in mind. If individual customer $i$ is included in retention campaign, we calculate the actual profit as\n",
    "\n",
    "$$ \\pi_i^{actual} = y[\\gamma_i(CAP_i-\\delta)]+(1-y)[-\\psi_i\\delta]$$\n",
    "\n",
    "where $y$ denotes binary target variable. For the whole retention campaign, we simply calculate the expected profit as\n",
    "\n",
    "$$\\Pi^{actual} = \\sum{\\pi_i^{actual}}$$\n",
    "\n",
    "Please note that we use this approach for paper testing (campaign not realized).\n",
    "\n",
    "#### Simulation procedure\n",
    "\n",
    "As $\\gamma_i$ and $\\psi_i$ are unknown to us, we estimate their impact using simulation procedure with 1000 draws. Similarly to Tamaddoni et al. (2015), we expect them to follow distributions with\n",
    "$ \\gamma_i = Beta(20.5, 116.1) $, $E(\\gamma_i)=0.15$ and $ \\psi_i = Beta(9, 1) $ with $E(\\psi_i)=0.9$.\n",
    "This allows us to include heterogenous redemption rates and uncertainty into our analysis."
   ]
  },
  {
   "cell_type": "code",
   "execution_count": null,
   "metadata": {},
   "outputs": [],
   "source": [
    "# LOAD CUSTOMER MODEL - WEEK 2\n",
    "# FIT LGBM\n",
    "# CALIBRATE LGBM\n",
    "# PREDICT ON UNSEEN DATA\n",
    "\n",
    "# SIMULATION\n",
    "# MEP - CURVE"
   ]
  },
  {
   "cell_type": "code",
   "execution_count": null,
   "metadata": {},
   "outputs": [],
   "source": [
    "# DEVELOP TOY EXAMPLE FOR THE PROFIT SIM AND EVAL\n",
    "\n",
    "\n",
    "### EVAL FUNC1\n",
    "\n",
    "# INPUTS\n",
    "# p - probability of churning\n",
    "# gamma - probability of accepting the retention offer, with previous intetion to churn\n",
    "# ACP - average customer's profit \n",
    "# delta - cost of the retention offer - fixed, due to practicality (one campaign)\n",
    "# psi - probability of accepting the retention offer, with previous intetion to stay\n",
    "\n",
    "# OUTPUTS\n",
    "# profit per each customer\n",
    "def expected_campaign_profit(p_churn, p_gamma, acp, delta, p_psi):\n",
    "    return p_churn*p_gamma*(acp-delta)+(1-p_churn)*(-p_psi*delta)\n",
    "\n",
    "### EVAL FUNC2\n",
    "def maximum_expected_campaign_profit(exp_camp_profit):\n",
    "    import numpy as np\n",
    "    \n",
    "    cecp = exp_camp_profit.cumsum()\n",
    "    perc = cecp.rank(perc=True)\n",
    "    max_ind = np.argmax(cecp)\n",
    "    return (cecp[max_ind], perc[max_ind])"
   ]
  }
 ],
 "metadata": {
  "kernelspec": {
   "display_name": "Python 3.8.10 ('.env': venv)",
   "language": "python",
   "name": "python3"
  },
  "language_info": {
   "name": "python",
   "version": "3.8.10"
  },
  "orig_nbformat": 4,
  "vscode": {
   "interpreter": {
    "hash": "0302efd4727f45c27e6e7330619db7bcf8ae8a56f076c44e120407f8390c5d65"
   }
  }
 },
 "nbformat": 4,
 "nbformat_minor": 2
}
