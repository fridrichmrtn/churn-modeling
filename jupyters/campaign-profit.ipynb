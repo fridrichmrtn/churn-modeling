{
 "cells": [
  {
   "cell_type": "markdown",
   "metadata": {},
   "source": [
    "### Campaign profit estimation\n",
    "\n",
    "#### Expected campaign profit\n",
    "\n",
    "The classical approach to retention management is to identify the customers at high risk of churning and persuade them to stay active with promotional offers. Predictive solutions are, however, primarily evaluated in terms of the classification task, not in the retention management context. To reflect on those additional steps, we propose an evaluation procedure inspired by the retention campaign (Neslin et al., 2006) and generated profit frameworks (Tamaddoni et al., 2015).\n",
    "\n",
    "However, we focus on differentiated customer value \n",
    "\n",
    "\n",
    "$$ \\pi_i = p_i[\\gamma_i CAP_i (1-\\delta)] + (1-p_i)[-\\psi_i \\delta]$$\n",
    "$$ \\gamma = Beta(\\alpha_{\\gamma}, \\beta_{\\gamma}) $$\n",
    "$$ \\psi = Beta(\\alpha_{\\psi}, \\beta_{\\psi}) $$\n",
    "\n",
    "#### Maximum expected campaign profit\n",
    "\n"
   ]
  },
  {
   "cell_type": "markdown",
   "metadata": {},
   "source": [
    "\n",
    "#### Actual profit\n",
    "#### Maximum actual campaign profit"
   ]
  },
  {
   "cell_type": "code",
   "execution_count": null,
   "metadata": {},
   "outputs": [],
   "source": [
    "# DEVELOP TOY EXAMPLE FOR THE PROFIT SIM AND EVAL\n",
    "\n",
    "\n",
    "### EVAL FUNC1\n",
    "\n",
    "# INPUTS\n",
    "# p - probability of churning\n",
    "# gamma - probability of accepting the retention offer, with previous intetion to churn\n",
    "# ACP - average customer's profit \n",
    "# delta - cost of the retention offer - fixed, due to practicality (one campaign)\n",
    "# psi - probability of accepting the retention offer, with previous intetion to stay\n",
    "\n",
    "# OUTPUTS\n",
    "# profit per each customer\n",
    "def expected_campaign_profit(p_churn, p_gamma, acp, delta, p_psi):\n",
    "    return p_churn*p_gamma*(acp-delta)+(1-p_churn)*(-p_psi*delta)\n",
    "\n",
    "### EVAL FUNC2\n",
    "def maximum_expected_campaign_profit(exp_camp_profit):\n",
    "    import numpy as np\n",
    "    \n",
    "    cecp = exp_camp_profit.cumsum()\n",
    "    perc = cecp.rank(perc=True)\n",
    "    max_ind = np.argmax(cecp)\n",
    "    return (cecp[max_ind], perc[max_ind])"
   ]
  }
 ],
 "metadata": {
  "kernelspec": {
   "display_name": "Python 3.8.10 ('.env': venv)",
   "language": "python",
   "name": "python3"
  },
  "language_info": {
   "name": "python",
   "version": "3.8.10"
  },
  "orig_nbformat": 4,
  "vscode": {
   "interpreter": {
    "hash": "0302efd4727f45c27e6e7330619db7bcf8ae8a56f076c44e120407f8390c5d65"
   }
  }
 },
 "nbformat": 4,
 "nbformat_minor": 2
}
