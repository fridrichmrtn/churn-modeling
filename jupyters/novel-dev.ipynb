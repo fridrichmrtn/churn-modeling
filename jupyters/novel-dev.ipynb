{
 "cells": [
  {
   "cell_type": "markdown",
   "metadata": {},
   "source": [
    "### Novel approach\n",
    "\n",
    "In previous section, we demonstrate "
   ]
  },
  {
   "cell_type": "code",
   "execution_count": null,
   "metadata": {},
   "outputs": [],
   "source": [
    "#\n",
    "##\n",
    "### LOAD DATA\n",
    "\n",
    "import pandas as pd\n",
    "import numpy as np\n",
    "\n",
    "def _optimize_numeric_dtypes(df):\n",
    "    import pandas as pd\n",
    "    float_cols = df.select_dtypes(\"float\").columns\n",
    "    int_cols = df.select_dtypes(\"integer\").columns\n",
    "    df[float_cols] = df[float_cols].\\\n",
    "        apply(pd.to_numeric, downcast=\"float\")\n",
    "    df[int_cols] = df[int_cols].\\\n",
    "        apply(pd.to_numeric, downcast=\"integer\")\n",
    "    return df\n",
    "\n",
    "data = _optimize_numeric_dtypes(\n",
    "    pd.read_parquet(\"../data/customer_model/retailrocket/\"))\n",
    "#data[\"target_cap\"] = data[\"target_cap\"].clip(-1000,10000)\n",
    "\n",
    "#\n",
    "##\n",
    "### CONSTRUCT PROFIT TARGET\n",
    "# NOTE: encapsulate this\n",
    "config = {\n",
    "    \"gamma\":{\"alpha\":2.04, \"beta\":202.04},\n",
    "    \"delta\":7500, \n",
    "    \"psi\":{\"alpha\":6.12, \"beta\":3.15},\n",
    "    \"n_iter\":1000,\n",
    "    \"seed\":1}\n",
    "    \n",
    "gamma = config[\"gamma\"]\n",
    "delta = config[\"delta\"]\n",
    "psi = config[\"psi\"]\n",
    "n_iter = config[\"n_iter\"]\n",
    "seed = config[\"seed\"] \n",
    "\n",
    "n_users = data.user_id.nunique()\n",
    "sp = []\n",
    "for i in range(n_iter):\n",
    "    gamma_psi = pd.DataFrame.from_dict({\n",
    "        \"user_id\":data.user_id.unique(),\n",
    "        \"gamma\":np.random.beta(gamma[\"alpha\"], gamma[\"beta\"], size=n_users),\n",
    "        \"psi\":np.random.beta(psi[\"alpha\"], psi[\"beta\"], size=n_users)})\n",
    "    temp = data.merge(gamma_psi, on=[\"user_id\"])\n",
    "    temp[\"acp\"] = (temp[\"target_event\"]*temp[\"gamma\"]*(temp[\"target_cap\"]-delta)\n",
    "        + (1-temp[\"target_event\"])*(-temp[\"psi\"]*delta))\n",
    "    sp.append(temp.loc[:,[\"user_id\", \"week_step\", \"acp\"]])\n",
    "sp = pd.concat(sp)"
   ]
  },
  {
   "cell_type": "code",
   "execution_count": null,
   "metadata": {},
   "outputs": [],
   "source": [
    "data.columns"
   ]
  },
  {
   "cell_type": "code",
   "execution_count": null,
   "metadata": {},
   "outputs": [],
   "source": [
    "#\n",
    "##\n",
    "### FIT STANDARD REGRESSOR\n",
    "\n",
    "from sklearn.metrics import r2_score, mean_absolute_error, mean_squared_error\n",
    "from sklearn.ensemble import BaggingRegressor\n",
    "from lightgbm import LGBMRegressor\n",
    "\n",
    "out_cols = [\"user_id\", \"row_id\", \"target_event\",\n",
    "    \"target_revenue\", \"week_step\", \"target_cap\"]\n",
    "\n",
    "feat_cols = [c for c in data.columns if c not in set(out_cols)]\n",
    "target_cols = [\"acp\"]\n",
    "data = data.merge(sp.groupby([\"user_id\",\"week_step\"], as_index=False).acp.mean(), on=[\"user_id\",\"week_step\"])\n",
    "\n",
    "\n",
    "trf = data.week_step>5\n",
    "tef = data.week_step==5\n",
    "X_train, y_train = data.loc[trf,feat_cols], data.loc[trf,target_cols]\n",
    "X_test, y_test = data.loc[tef,feat_cols], data.loc[tef,target_cols]\n",
    "\n",
    "# we bagg lgbm, to compensate the similar ensemble procedure in clf\n",
    "lgbm = BaggingRegressor(base_estimator=LGBMRegressor(), n_estimators=5)\n",
    "lgbm.fit(X_train, y_train)\n",
    "\n",
    "# add metrics\n",
    "y_pred = lgbm.predict(X_test)\n",
    "print(\"r2:{:.2f}\".format(r2_score(y_test, y_pred)))\n",
    "print(\"mae:{:.2f}\".format(mean_absolute_error(y_test, y_pred)))\n",
    "print(\"mse:{:.2f}\".format(mean_squared_error(y_test, y_pred)))"
   ]
  },
  {
   "cell_type": "code",
   "execution_count": null,
   "metadata": {},
   "outputs": [],
   "source": [
    "sp = X_test.copy()\n",
    "sp[\"acp\"] = y_test.loc[:,[\"acp\"]]\n",
    "sp[\"ecp\"] = lgbm.predict(X_test)\n",
    "sp = sp.sort_values(\"ecp\", ascending=False)\n",
    "sp[\"cecp\"] = sp.ecp.cumsum()\n",
    "sp[\"perc\"] = sp.ecp.rank(ascending=False, pct=True)\n",
    "sp[\"cacp\"] = sp.acp.cumsum()\n",
    "\n",
    "print(\"campaign size: {:.3f}\".format(sp.perc[sp.cecp.idxmax()]))\n",
    "print(\"expected campaign profit: {:.2f}\".format( sp.cecp.max()))\n",
    "print(\"actual campaign profit: {:.2f}\".format(sp.cacp[sp.cecp.idxmax()]))"
   ]
  },
  {
   "cell_type": "code",
   "execution_count": null,
   "metadata": {},
   "outputs": [],
   "source": [
    "import matplotlib.pyplot as plt\n",
    "import seaborn as sns\n",
    "def plot_simulated_profit(sp):    \n",
    "    f, a = plt.subplots(1,1, figsize=(10,7))\n",
    "    sns.lineplot(#data=sp,\n",
    "        x=sp.perc, y=sp.cecp, legend=False,\n",
    "        color=sns.color_palette(\"rocket\")[0], ax=a);\n",
    "    sns.lineplot(#data=sp,\n",
    "        x=sp.perc, y=sp.cacp, legend=False,\n",
    "        color=sns.color_palette(\"rocket\")[3], ax=a);\n",
    "    a.set_ylabel(\"profit\");\n",
    "    a.set_xlabel(\"percentile\");\n",
    "    a.legend(loc=\"lower left\",\n",
    "        labels=[\"expected profit\", \"actual profit\"]);\n",
    "    a.axhline(0, linestyle=\"dotted\", c=\"k\");\n",
    "    return None\n",
    "plot_simulated_profit(sp)    "
   ]
  }
 ],
 "metadata": {
  "kernelspec": {
   "display_name": "Python 3.8.10 ('.env': venv)",
   "language": "python",
   "name": "python3"
  },
  "language_info": {
   "codemirror_mode": {
    "name": "ipython",
    "version": 3
   },
   "file_extension": ".py",
   "mimetype": "text/x-python",
   "name": "python",
   "nbconvert_exporter": "python",
   "pygments_lexer": "ipython3",
   "version": "3.8.10"
  },
  "orig_nbformat": 4,
  "vscode": {
   "interpreter": {
    "hash": "0302efd4727f45c27e6e7330619db7bcf8ae8a56f076c44e120407f8390c5d65"
   }
  }
 },
 "nbformat": 4,
 "nbformat_minor": 2
}
