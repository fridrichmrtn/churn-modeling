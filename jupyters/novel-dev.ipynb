{
 "cells": [
  {
   "cell_type": "code",
   "execution_count": 1,
   "metadata": {},
   "outputs": [],
   "source": [
    "#\n",
    "##\n",
    "### LOAD DATA\n",
    "\n",
    "import pandas as pd\n",
    "import numpy as np\n",
    "\n",
    "def _optimize_numeric_dtypes(df):\n",
    "    import pandas as pd\n",
    "    float_cols = df.select_dtypes(\"float\").columns\n",
    "    int_cols = df.select_dtypes(\"integer\").columns\n",
    "    df[float_cols] = df[float_cols].\\\n",
    "        apply(pd.to_numeric, downcast=\"float\")\n",
    "    df[int_cols] = df[int_cols].\\\n",
    "        apply(pd.to_numeric, downcast=\"integer\")\n",
    "    return df\n",
    "\n",
    "data = _optimize_numeric_dtypes(\n",
    "    pd.read_parquet(\"../data/customer_model/retailrocket/\"))\n",
    "data[\"target_cap\"] = data[\"target_cap\"].clip(-1000,10000)\n",
    "\n",
    "#\n",
    "##\n",
    "### CONSTRUCT PROFIT TARGET\n",
    "# NOTE: encapsulate this\n",
    "config = {\n",
    "    #\"gamma\":{\"alpha\":22.3, \"beta\":200},\n",
    "    \"gamma\":{\"alpha\":20.5, \"beta\":116.167},\n",
    "    \"delta\":500,\n",
    "    \"psi\":{\"alpha\":9, \"beta\":1},\n",
    "    \"n_iter\":1000,\n",
    "    \"seed\":1}\n",
    "\n",
    "gamma = config[\"gamma\"]\n",
    "delta = config[\"delta\"]\n",
    "psi = config[\"psi\"]\n",
    "n_iter = config[\"n_iter\"]\n",
    "seed = config[\"seed\"] \n",
    "\n",
    "n_users = data.user_id.nunique()\n",
    "sp = []\n",
    "for i in range(n_iter):\n",
    "    gamma_psi = pd.DataFrame.from_dict({\n",
    "        \"user_id\":data.user_id.unique(),\n",
    "        \"gamma\":np.random.beta(gamma[\"alpha\"], gamma[\"beta\"], size=n_users),\n",
    "        \"psi\":np.random.beta(psi[\"alpha\"], psi[\"beta\"], size=n_users)})\n",
    "    temp = data.merge(gamma_psi, on=[\"user_id\"])\n",
    "    temp[\"acp\"] = (temp[\"target_event\"]*temp[\"gamma\"]*(temp[\"target_cap\"]-delta)\n",
    "        + (1-temp[\"target_event\"])*(-temp[\"psi\"]*delta))\n",
    "    sp.append(temp.loc[:,[\"user_id\", \"week_step\", \"acp\"]])\n",
    "sp = pd.concat(sp)"
   ]
  },
  {
   "cell_type": "code",
   "execution_count": 2,
   "metadata": {},
   "outputs": [],
   "source": [
    "out_cols = [\"user_id\", \"row_id\", \"target_event\",\n",
    "    \"target_revenue\", \"week_step\", \"target_cap\",\n",
    "    \"cap\", \"cap_month_lag0\", \"cap_month_lag1\",\n",
    "    \"cap_month_lag2\", \"cap_month_lag3\", \"cap_month_ma3\"]\n",
    "\n",
    "feat_cols = [c for c in data.columns if c not in set(out_cols)]\n"
   ]
  },
  {
   "cell_type": "code",
   "execution_count": 3,
   "metadata": {},
   "outputs": [],
   "source": [
    "from sklearn.model_selection import train_test_split\n",
    "from lightgbm import LGBMClassifier\n",
    "\n",
    "data = data.merge(sp.groupby([\"user_id\",\"week_step\"], as_index=False).acp.mean(), on=[\"user_id\",\"week_step\"])\n",
    "trf = data.week_step>2\n",
    "tef = data.week_step==2\n",
    "\n",
    "target_cols = [\"target_event\", \"acp\"]\n",
    "X_train, y_train = data.loc[trf,feat_cols], data.loc[trf,target_cols]\n",
    "X_test, y_test = data.loc[tef,feat_cols], data.loc[tef,target_cols]\n",
    "\n",
    "# train split\n",
    "#X_reg, X_clf, y_reg, y_clf = train_test_split(X_train, y_train, test_size=.8, stratify=y_train.loc[:,[\"target_event\"]])\n",
    "\n",
    "#clf = LGBMClassifier()\n",
    "#clf.fit(X_clf, y_clf.loc[:,[\"target_event\"]])\n",
    "#X_reg[\"proba\"] = clf.predict_proba(X_reg)[:,1]\n",
    "#X_test[\"proba\"] = clf.predict_proba(X_test)[:,1]"
   ]
  },
  {
   "cell_type": "code",
   "execution_count": 4,
   "metadata": {},
   "outputs": [
    {
     "data": {
      "text/plain": [
       "0.46849853301491273"
      ]
     },
     "execution_count": 4,
     "metadata": {},
     "output_type": "execute_result"
    }
   ],
   "source": [
    "from sklearn.metrics import r2_score\n",
    "from imblearn.pipeline import Pipeline\n",
    "from lightgbm import LGBMRegressor, LGBMClassifier\n",
    "from sklearn.ensemble import HistGradientBoostingRegressor\n",
    "\n",
    "reg = HistGradientBoostingRegressor(loss=\"quantile\",quantile=0.5)\n",
    "reg = LGBMRegressor()\n",
    "reg.fit(X_train, y_train.loc[:,[\"acp\"]])\n",
    "r2_score(y_test.loc[:,[\"acp\"]], reg.predict(X_test))"
   ]
  },
  {
   "cell_type": "code",
   "execution_count": 5,
   "metadata": {},
   "outputs": [
    {
     "data": {
      "text/html": [
       "<div>\n",
       "<style scoped>\n",
       "    .dataframe tbody tr th:only-of-type {\n",
       "        vertical-align: middle;\n",
       "    }\n",
       "\n",
       "    .dataframe tbody tr th {\n",
       "        vertical-align: top;\n",
       "    }\n",
       "\n",
       "    .dataframe thead th {\n",
       "        text-align: right;\n",
       "    }\n",
       "</style>\n",
       "<table border=\"1\" class=\"dataframe\">\n",
       "  <thead>\n",
       "    <tr style=\"text-align: right;\">\n",
       "      <th></th>\n",
       "      <th>user_id</th>\n",
       "      <th>week_step</th>\n",
       "      <th>acp</th>\n",
       "    </tr>\n",
       "  </thead>\n",
       "  <tbody>\n",
       "    <tr>\n",
       "      <th>0</th>\n",
       "      <td>3926</td>\n",
       "      <td>0</td>\n",
       "      <td>-449.442359</td>\n",
       "    </tr>\n",
       "    <tr>\n",
       "      <th>1</th>\n",
       "      <td>8043</td>\n",
       "      <td>0</td>\n",
       "      <td>-447.088609</td>\n",
       "    </tr>\n",
       "    <tr>\n",
       "      <th>2</th>\n",
       "      <td>8731</td>\n",
       "      <td>0</td>\n",
       "      <td>-449.296341</td>\n",
       "    </tr>\n",
       "    <tr>\n",
       "      <th>3</th>\n",
       "      <td>9145</td>\n",
       "      <td>0</td>\n",
       "      <td>-450.556614</td>\n",
       "    </tr>\n",
       "    <tr>\n",
       "      <th>4</th>\n",
       "      <td>11248</td>\n",
       "      <td>0</td>\n",
       "      <td>-449.404823</td>\n",
       "    </tr>\n",
       "    <tr>\n",
       "      <th>...</th>\n",
       "      <td>...</td>\n",
       "      <td>...</td>\n",
       "      <td>...</td>\n",
       "    </tr>\n",
       "    <tr>\n",
       "      <th>3339</th>\n",
       "      <td>1352334</td>\n",
       "      <td>10</td>\n",
       "      <td>-448.226774</td>\n",
       "    </tr>\n",
       "    <tr>\n",
       "      <th>3340</th>\n",
       "      <td>1356496</td>\n",
       "      <td>10</td>\n",
       "      <td>-451.085552</td>\n",
       "    </tr>\n",
       "    <tr>\n",
       "      <th>3341</th>\n",
       "      <td>1365706</td>\n",
       "      <td>10</td>\n",
       "      <td>1419.222522</td>\n",
       "    </tr>\n",
       "    <tr>\n",
       "      <th>3342</th>\n",
       "      <td>1398811</td>\n",
       "      <td>10</td>\n",
       "      <td>198.553328</td>\n",
       "    </tr>\n",
       "    <tr>\n",
       "      <th>3343</th>\n",
       "      <td>1406087</td>\n",
       "      <td>10</td>\n",
       "      <td>-452.995893</td>\n",
       "    </tr>\n",
       "  </tbody>\n",
       "</table>\n",
       "<p>3344 rows × 3 columns</p>\n",
       "</div>"
      ],
      "text/plain": [
       "      user_id  week_step          acp\n",
       "0        3926          0  -449.442359\n",
       "1        8043          0  -447.088609\n",
       "2        8731          0  -449.296341\n",
       "3        9145          0  -450.556614\n",
       "4       11248          0  -449.404823\n",
       "...       ...        ...          ...\n",
       "3339  1352334         10  -448.226774\n",
       "3340  1356496         10  -451.085552\n",
       "3341  1365706         10  1419.222522\n",
       "3342  1398811         10   198.553328\n",
       "3343  1406087         10  -452.995893\n",
       "\n",
       "[3344 rows x 3 columns]"
      ]
     },
     "execution_count": 5,
     "metadata": {},
     "output_type": "execute_result"
    }
   ],
   "source": [
    "data.loc[:,[\"user_id\",\"week_step\",\"acp\"]]"
   ]
  },
  {
   "cell_type": "code",
   "execution_count": 6,
   "metadata": {},
   "outputs": [
    {
     "data": {
      "text/html": [
       "<div>\n",
       "<style scoped>\n",
       "    .dataframe tbody tr th:only-of-type {\n",
       "        vertical-align: middle;\n",
       "    }\n",
       "\n",
       "    .dataframe tbody tr th {\n",
       "        vertical-align: top;\n",
       "    }\n",
       "\n",
       "    .dataframe thead th {\n",
       "        text-align: right;\n",
       "    }\n",
       "</style>\n",
       "<table border=\"1\" class=\"dataframe\">\n",
       "  <thead>\n",
       "    <tr style=\"text-align: right;\">\n",
       "      <th></th>\n",
       "      <th>user_id</th>\n",
       "      <th>week_step</th>\n",
       "      <th>acp</th>\n",
       "    </tr>\n",
       "  </thead>\n",
       "  <tbody>\n",
       "    <tr>\n",
       "      <th>3242</th>\n",
       "      <td>566009</td>\n",
       "      <td>10</td>\n",
       "      <td>601.798121</td>\n",
       "    </tr>\n",
       "    <tr>\n",
       "      <th>3049</th>\n",
       "      <td>566009</td>\n",
       "      <td>9</td>\n",
       "      <td>-451.223492</td>\n",
       "    </tr>\n",
       "    <tr>\n",
       "      <th>2826</th>\n",
       "      <td>566009</td>\n",
       "      <td>8</td>\n",
       "      <td>471.759518</td>\n",
       "    </tr>\n",
       "    <tr>\n",
       "      <th>2583</th>\n",
       "      <td>566009</td>\n",
       "      <td>7</td>\n",
       "      <td>-451.223492</td>\n",
       "    </tr>\n",
       "    <tr>\n",
       "      <th>2312</th>\n",
       "      <td>566009</td>\n",
       "      <td>6</td>\n",
       "      <td>-451.223492</td>\n",
       "    </tr>\n",
       "    <tr>\n",
       "      <th>2010</th>\n",
       "      <td>566009</td>\n",
       "      <td>5</td>\n",
       "      <td>-451.223492</td>\n",
       "    </tr>\n",
       "    <tr>\n",
       "      <th>1683</th>\n",
       "      <td>566009</td>\n",
       "      <td>4</td>\n",
       "      <td>-451.223492</td>\n",
       "    </tr>\n",
       "    <tr>\n",
       "      <th>1336</th>\n",
       "      <td>566009</td>\n",
       "      <td>3</td>\n",
       "      <td>1419.995034</td>\n",
       "    </tr>\n",
       "    <tr>\n",
       "      <th>965</th>\n",
       "      <td>566009</td>\n",
       "      <td>2</td>\n",
       "      <td>1328.918737</td>\n",
       "    </tr>\n",
       "    <tr>\n",
       "      <th>576</th>\n",
       "      <td>566009</td>\n",
       "      <td>1</td>\n",
       "      <td>1248.293665</td>\n",
       "    </tr>\n",
       "    <tr>\n",
       "      <th>170</th>\n",
       "      <td>566009</td>\n",
       "      <td>0</td>\n",
       "      <td>1176.418708</td>\n",
       "    </tr>\n",
       "  </tbody>\n",
       "</table>\n",
       "</div>"
      ],
      "text/plain": [
       "      user_id  week_step          acp\n",
       "3242   566009         10   601.798121\n",
       "3049   566009          9  -451.223492\n",
       "2826   566009          8   471.759518\n",
       "2583   566009          7  -451.223492\n",
       "2312   566009          6  -451.223492\n",
       "2010   566009          5  -451.223492\n",
       "1683   566009          4  -451.223492\n",
       "1336   566009          3  1419.995034\n",
       "965    566009          2  1328.918737\n",
       "576    566009          1  1248.293665\n",
       "170    566009          0  1176.418708"
      ]
     },
     "execution_count": 6,
     "metadata": {},
     "output_type": "execute_result"
    }
   ],
   "source": [
    "data.loc[data.user_id==566009,[\"user_id\",\"week_step\",\"acp\"]].sort_values(\"week_step\", ascending=False)"
   ]
  },
  {
   "cell_type": "code",
   "execution_count": 7,
   "metadata": {},
   "outputs": [
    {
     "data": {
      "text/plain": [
       "3242            NaN\n",
       "3049     601.798121\n",
       "2826    -451.223492\n",
       "2583     471.759518\n",
       "2312    -451.223492\n",
       "2010    -451.223492\n",
       "1683    -451.223492\n",
       "1336    -451.223492\n",
       "965     1419.995034\n",
       "576     1328.918737\n",
       "170     1248.293665\n",
       "Name: acp, dtype: float64"
      ]
     },
     "execution_count": 7,
     "metadata": {},
     "output_type": "execute_result"
    }
   ],
   "source": [
    "data.loc[data.user_id==566009,[\"user_id\",\"week_step\",\"acp\"]].sort_values(\"week_step\", ascending=False).acp.shift(1)"
   ]
  },
  {
   "cell_type": "code",
   "execution_count": null,
   "metadata": {},
   "outputs": [],
   "source": []
  },
  {
   "cell_type": "code",
   "execution_count": 8,
   "metadata": {},
   "outputs": [
    {
     "data": {
      "text/plain": [
       "array([[1.        , 0.02057505],\n",
       "       [0.02057505, 1.        ]])"
      ]
     },
     "execution_count": 8,
     "metadata": {},
     "output_type": "execute_result"
    }
   ],
   "source": [
    "shfty = 4\n",
    "np.corrcoef(data.loc[:,[\"user_id\",\"week_step\",\"acp\"]].sort_values(\"week_step\", ascending=False).acp[shfty:],\n",
    "    data.loc[:,[\"user_id\",\"week_step\",\"acp\"]].sort_values(\"week_step\", ascending=False).acp.shift(shfty)[shfty:])"
   ]
  },
  {
   "cell_type": "code",
   "execution_count": 9,
   "metadata": {},
   "outputs": [
    {
     "name": "stderr",
     "output_type": "stream",
     "text": [
      "/home/mf/github/churn-modeling/.env/lib/python3.8/site-packages/numpy/lib/function_base.py:2853: RuntimeWarning: invalid value encountered in divide\n",
      "  c /= stddev[:, None]\n",
      "/home/mf/github/churn-modeling/.env/lib/python3.8/site-packages/numpy/lib/function_base.py:2854: RuntimeWarning: invalid value encountered in divide\n",
      "  c /= stddev[None, :]\n"
     ]
    },
    {
     "data": {
      "text/plain": [
       "array([[ 1., nan],\n",
       "       [nan, nan]])"
      ]
     },
     "execution_count": 9,
     "metadata": {},
     "output_type": "execute_result"
    }
   ],
   "source": [
    "np.corrcoef(data.loc[:,[\"user_id\",\"week_step\",\"acp\"]].sort_values(\"week_step\", ascending=False).acp,\n",
    "    data.loc[:,[\"user_id\",\"week_step\",\"acp\"]].sort_values(\"week_step\", ascending=False).groupby([\"user_id\",\"week_step\"]).acp.shift(1).fillna(0))"
   ]
  },
  {
   "cell_type": "code",
   "execution_count": 10,
   "metadata": {},
   "outputs": [
    {
     "data": {
      "text/plain": [
       "array([[1.        , 0.56712684],\n",
       "       [0.56712684, 1.        ]])"
      ]
     },
     "execution_count": 10,
     "metadata": {},
     "output_type": "execute_result"
    }
   ],
   "source": [
    "sortd = data.loc[:,[\"user_id\",\"week_step\",\"acp\", \"target_event\"]].sort_values(\"week_step\", ascending=False)\n",
    "np.corrcoef(\n",
    "    sortd.loc[:,[\"acp\"]].T,\n",
    "    sortd.groupby([\"user_id\"], as_index=False).target_event.shift(1).fillna(0).T\n",
    ")"
   ]
  },
  {
   "cell_type": "code",
   "execution_count": 12,
   "metadata": {},
   "outputs": [
    {
     "data": {
      "text/plain": [
       "0.3598099569185369"
      ]
     },
     "execution_count": 12,
     "metadata": {},
     "output_type": "execute_result"
    }
   ],
   "source": [
    "sortd[\"acp_lag1\"] = sortd.groupby([\"user_id\"], as_index=False).acp.shift(1).fillna(0)\n",
    "sortd[\"acp_lag2\"] = sortd.groupby([\"user_id\"], as_index=False).acp.shift(2).fillna(0)\n",
    "sortd[\"acp_lag3\"] = sortd.groupby([\"user_id\"], as_index=False).acp.shift(3).fillna(0)\n",
    "sortd[\"acp_lag4\"] = sortd.groupby([\"user_id\"], as_index=False).acp.shift(4).fillna(0)\n",
    "\n",
    "sortd[\"te_lag1\"] = sortd.groupby([\"user_id\"], as_index=False).target_event.shift(1).fillna(0)\n",
    "sortd[\"te_lag2\"] = sortd.groupby([\"user_id\"], as_index=False).target_event.shift(2).fillna(0)\n",
    "sortd[\"te_lag3\"] = sortd.groupby([\"user_id\"], as_index=False).target_event.shift(3).fillna(0)\n",
    "sortd[\"te_lag4\"] = sortd.groupby([\"user_id\"], as_index=False).target_event.shift(4).fillna(0)\n",
    "\n",
    "feat_cols = [c for c in sortd.columns if (\"acp_\" in c) or (\"te_\" in c)]\n",
    "target_col = [\"acp\"]\n",
    "\n",
    "train_filter = (sortd.week_step>1) & (sortd.week_step<11)\n",
    "test_filter = sortd.week_step==1\n",
    "\n",
    "X_train, y_train = sortd.loc[train_filter, feat_cols], sortd.loc[train_filter, target_col]\n",
    "#X_train[\"proba\"] = clf.predict_proba(X_train)[:,1]+np.random.random()\n",
    "X_test, y_test = sortd.loc[test_filter, feat_cols], sortd.loc[test_filter, target_col]\n",
    "#X_test[\"proba\"] = clf.predict_proba(X_test)[:,1]#+np.random.random()/10\n",
    "\n",
    "lr = LGBMRegressor(n_estimators=50)\n",
    "lr.fit(X_train, y_train)\n",
    "\n",
    "r2_score(y_test, lr.predict(X_test))"
   ]
  },
  {
   "cell_type": "code",
   "execution_count": 13,
   "metadata": {},
   "outputs": [
    {
     "data": {
      "text/plain": [
       "<AxesSubplot:ylabel='Frequency'>"
      ]
     },
     "execution_count": 13,
     "metadata": {},
     "output_type": "execute_result"
    },
    {
     "data": {
      "image/png": "[encoded data removed]",
      "text/plain": [
       "<Figure size 432x288 with 1 Axes>"
      ]
     },
     "metadata": {
      "needs_background": "light"
     },
     "output_type": "display_data"
    }
   ],
   "source": [
    "pd.Series(lr.predict(X_test)).plot(kind=\"hist\")"
   ]
  },
  {
   "cell_type": "code",
   "execution_count": 14,
   "metadata": {},
   "outputs": [
    {
     "data": {
      "text/plain": [
       "<AxesSubplot:ylabel='Frequency'>"
      ]
     },
     "execution_count": 14,
     "metadata": {},
     "output_type": "execute_result"
    },
    {
     "data": {
      "image/png": "[encoded data removed]",
      "text/plain": [
       "<Figure size 432x288 with 1 Axes>"
      ]
     },
     "metadata": {
      "needs_background": "light"
     },
     "output_type": "display_data"
    }
   ],
   "source": [
    "pd.Series(y_test.acp.values).plot(kind=\"hist\")"
   ]
  },
  {
   "cell_type": "code",
   "execution_count": 15,
   "metadata": {},
   "outputs": [
    {
     "data": {
      "text/plain": [
       "<AxesSubplot:ylabel='Frequency'>"
      ]
     },
     "execution_count": 15,
     "metadata": {},
     "output_type": "execute_result"
    },
    {
     "data": {
      "image/png": "[encoded data removed]",
      "text/plain": [
       "<Figure size 432x288 with 1 Axes>"
      ]
     },
     "metadata": {
      "needs_background": "light"
     },
     "output_type": "display_data"
    }
   ],
   "source": [
    "pd.Series(y_train.acp.values).plot(kind=\"hist\")"
   ]
  },
  {
   "cell_type": "code",
   "execution_count": 19,
   "metadata": {},
   "outputs": [
    {
     "data": {
      "text/html": [
       "<div>\n",
       "<style scoped>\n",
       "    .dataframe tbody tr th:only-of-type {\n",
       "        vertical-align: middle;\n",
       "    }\n",
       "\n",
       "    .dataframe tbody tr th {\n",
       "        vertical-align: top;\n",
       "    }\n",
       "\n",
       "    .dataframe thead th {\n",
       "        text-align: right;\n",
       "    }\n",
       "</style>\n",
       "<table border=\"1\" class=\"dataframe\">\n",
       "  <thead>\n",
       "    <tr style=\"text-align: right;\">\n",
       "      <th></th>\n",
       "      <th>week_step</th>\n",
       "      <th>purchase_count_month_lag2</th>\n",
       "      <th>target_event</th>\n",
       "    </tr>\n",
       "  </thead>\n",
       "  <tbody>\n",
       "    <tr>\n",
       "      <th>2480</th>\n",
       "      <td>7</td>\n",
       "      <td>0</td>\n",
       "      <td>0</td>\n",
       "    </tr>\n",
       "    <tr>\n",
       "      <th>2197</th>\n",
       "      <td>6</td>\n",
       "      <td>1</td>\n",
       "      <td>0</td>\n",
       "    </tr>\n",
       "    <tr>\n",
       "      <th>1890</th>\n",
       "      <td>5</td>\n",
       "      <td>1</td>\n",
       "      <td>0</td>\n",
       "    </tr>\n",
       "    <tr>\n",
       "      <th>1553</th>\n",
       "      <td>4</td>\n",
       "      <td>0</td>\n",
       "      <td>0</td>\n",
       "    </tr>\n",
       "    <tr>\n",
       "      <th>1194</th>\n",
       "      <td>3</td>\n",
       "      <td>0</td>\n",
       "      <td>0</td>\n",
       "    </tr>\n",
       "    <tr>\n",
       "      <th>817</th>\n",
       "      <td>2</td>\n",
       "      <td>0</td>\n",
       "      <td>1</td>\n",
       "    </tr>\n",
       "    <tr>\n",
       "      <th>423</th>\n",
       "      <td>1</td>\n",
       "      <td>0</td>\n",
       "      <td>1</td>\n",
       "    </tr>\n",
       "    <tr>\n",
       "      <th>10</th>\n",
       "      <td>0</td>\n",
       "      <td>0</td>\n",
       "      <td>1</td>\n",
       "    </tr>\n",
       "  </tbody>\n",
       "</table>\n",
       "</div>"
      ],
      "text/plain": [
       "      week_step  purchase_count_month_lag2  target_event\n",
       "2480          7                          0             0\n",
       "2197          6                          1             0\n",
       "1890          5                          1             0\n",
       "1553          4                          0             0\n",
       "1194          3                          0             0\n",
       "817           2                          0             1\n",
       "423           1                          0             1\n",
       "10            0                          0             1"
      ]
     },
     "execution_count": 19,
     "metadata": {},
     "output_type": "execute_result"
    }
   ],
   "source": [
    "data.loc[data.user_id==23076,:].sort_values(\"week_step\", ascending=False).loc[:,[\"week_step\",\"purchase_count_month_lag2\",\"target_event\"]]"
   ]
  },
  {
   "cell_type": "code",
   "execution_count": 20,
   "metadata": {},
   "outputs": [
    {
     "data": {
      "text/plain": [
       "array([[ 1.       , -0.0055244],\n",
       "       [-0.0055244,  1.       ]])"
      ]
     },
     "execution_count": 20,
     "metadata": {},
     "output_type": "execute_result"
    }
   ],
   "source": [
    "np.corrcoef(data.purchase_count_month_lag0, data.target_event)"
   ]
  },
  {
   "cell_type": "code",
   "execution_count": 26,
   "metadata": {},
   "outputs": [
    {
     "data": {
      "text/plain": [
       "array([[1.        , 0.60056359],\n",
       "       [0.60056359, 1.        ]])"
      ]
     },
     "execution_count": 26,
     "metadata": {},
     "output_type": "execute_result"
    }
   ],
   "source": [
    "srtd = data.sort_values(\"week_step\", ascending=False).copy()\n",
    "srtd[\"target_lag\"] = srtd.groupby(\"user_id\").target_event.shift(1).fillna(0)\n",
    "\n",
    "np.corrcoef(srtd.target_event, srtd.target_lag)"
   ]
  },
  {
   "cell_type": "code",
   "execution_count": null,
   "metadata": {},
   "outputs": [],
   "source": []
  }
 ],
 "metadata": {
  "kernelspec": {
   "display_name": "Python 3.8.10 ('.env': venv)",
   "language": "python",
   "name": "python3"
  },
  "language_info": {
   "codemirror_mode": {
    "name": "ipython",
    "version": 3
   },
   "file_extension": ".py",
   "mimetype": "text/x-python",
   "name": "python",
   "nbconvert_exporter": "python",
   "pygments_lexer": "ipython3",
   "version": "3.8.10"
  },
  "orig_nbformat": 4,
  "vscode": {
   "interpreter": {
    "hash": "0302efd4727f45c27e6e7330619db7bcf8ae8a56f076c44e120407f8390c5d65"
   }
  }
 },
 "nbformat": 4,
 "nbformat_minor": 2
}
