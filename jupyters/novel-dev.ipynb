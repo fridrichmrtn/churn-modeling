{
 "cells": [
  {
   "cell_type": "code",
   "execution_count": 41,
   "metadata": {},
   "outputs": [],
   "source": [
    "#\n",
    "##\n",
    "### LOAD DATA\n",
    "\n",
    "import pandas as pd\n",
    "import numpy as np\n",
    "\n",
    "def _optimize_numeric_dtypes(df):\n",
    "    import pandas as pd\n",
    "    float_cols = df.select_dtypes(\"float\").columns\n",
    "    int_cols = df.select_dtypes(\"integer\").columns\n",
    "    df[float_cols] = df[float_cols].\\\n",
    "        apply(pd.to_numeric, downcast=\"float\")\n",
    "    df[int_cols] = df[int_cols].\\\n",
    "        apply(pd.to_numeric, downcast=\"integer\")\n",
    "    return df\n",
    "\n",
    "data = _optimize_numeric_dtypes(\n",
    "    pd.read_parquet(\"../data/customer_model/retailrocket/\"))\n",
    "data[\"target_cap\"] = data[\"target_cap\"].clip(-1000,25000)\n",
    "\n",
    "#\n",
    "##\n",
    "### CONSTRUCT PROFIT TARGET\n",
    "# NOTE: encapsulate this\n",
    "config = {\n",
    "    #\"gamma\":{\"alpha\":22.3, \"beta\":200},\n",
    "    \"gamma\":{\"alpha\":20.5, \"beta\":116.167},\n",
    "    \"delta\":500,\n",
    "    \"psi\":{\"alpha\":9, \"beta\":1},\n",
    "    \"n_iter\":1000,\n",
    "    \"seed\":1}\n",
    "\n",
    "gamma = config[\"gamma\"]\n",
    "delta = config[\"delta\"]\n",
    "psi = config[\"psi\"]\n",
    "n_iter = config[\"n_iter\"]\n",
    "seed = config[\"seed\"] \n",
    "\n",
    "n_users = data.user_id.nunique()\n",
    "sp = []\n",
    "for i in range(n_iter):\n",
    "    gamma_psi = pd.DataFrame.from_dict({\n",
    "        \"user_id\":data.user_id.unique(),\n",
    "        \"gamma\":np.random.beta(gamma[\"alpha\"], gamma[\"beta\"], size=n_users),\n",
    "        \"psi\":np.random.beta(psi[\"alpha\"], psi[\"beta\"], size=n_users)})\n",
    "    temp = data.merge(gamma_psi, on=[\"user_id\"])\n",
    "    temp[\"acp\"] = (temp[\"target_event\"]*temp[\"gamma\"]*(temp[\"target_cap\"]-delta)\n",
    "        + (1-temp[\"target_event\"])*(-temp[\"psi\"]*delta))\n",
    "    sp.append(temp.loc[:,[\"user_id\", \"week_step\", \"acp\"]])\n",
    "sp = pd.concat(sp)"
   ]
  },
  {
   "cell_type": "code",
   "execution_count": 42,
   "metadata": {},
   "outputs": [],
   "source": [
    "train = data[data.week_step>1]\n",
    "test = data[data.week_step==1]\n",
    "\n",
    "out_cols = [\"user_id\", \"row_id\", \"target_event\",\n",
    "    \"target_revenue\", \"week_step\", \"target_cap\",\n",
    "    \"cap\", \"cap_month_lag0\", \"cap_month_lag1\",\n",
    "    \"cap_month_lag2\", \"cap_month_lag3\", \"cap_month_ma3\"]\n",
    "\n",
    "feat_cols = [c for c in train.columns if c not in set(out_cols)]\n"
   ]
  },
  {
   "cell_type": "code",
   "execution_count": 46,
   "metadata": {},
   "outputs": [
    {
     "name": "stderr",
     "output_type": "stream",
     "text": [
      "/home/mf/github/churn-modeling/.env/lib/python3.8/site-packages/sklearn/preprocessing/_label.py:98: DataConversionWarning: A column-vector y was passed when a 1d array was expected. Please change the shape of y to (n_samples, ), for example using ravel().\n",
      "  y = column_or_1d(y, warn=True)\n",
      "/home/mf/github/churn-modeling/.env/lib/python3.8/site-packages/sklearn/preprocessing/_label.py:133: DataConversionWarning: A column-vector y was passed when a 1d array was expected. Please change the shape of y to (n_samples, ), for example using ravel().\n",
      "  y = column_or_1d(y, warn=True)\n"
     ]
    }
   ],
   "source": [
    "from sklearn.model_selection import train_test_split\n",
    "from lightgbm import LGBMClassifier\n",
    "\n",
    "lol = data.merge(sp.groupby([\"user_id\",\"week_step\"], as_index=False).acp.mean(), on=[\"user_id\",\"week_step\"])\n",
    "trf = lol.week_step>2\n",
    "tef = lol.week_step==2\n",
    "\n",
    "target_cols = [\"target_event\", \"acp\"]\n",
    "X_train, y_train = lol.loc[trf,feat_cols], lol.loc[trf,target_cols]\n",
    "X_test, y_test = lol.loc[tef,feat_cols], lol.loc[tef,target_cols]\n",
    "\n",
    "# train split\n",
    "X_reg, X_clf, y_reg, y_clf = train_test_split(X_train, y_train, test_size=.8, stratify=y_train.loc[:,[\"target_event\"]])\n",
    "\n",
    "clf = LGBMClassifier()\n",
    "clf.fit(X_clf, y_clf.loc[:,[\"target_event\"]])\n",
    "X_reg[\"proba\"] = clf.predict_proba(X_reg)[:,1]\n",
    "X_test[\"proba\"] = clf.predict_proba(X_test)[:,1]"
   ]
  },
  {
   "cell_type": "code",
   "execution_count": 47,
   "metadata": {},
   "outputs": [
    {
     "data": {
      "text/plain": [
       "0.43809135311597847"
      ]
     },
     "execution_count": 47,
     "metadata": {},
     "output_type": "execute_result"
    }
   ],
   "source": [
    "from sklearn.metrics import r2_score\n",
    "from imblearn.pipeline import Pipeline\n",
    "from lightgbm import LGBMRegressor, LGBMClassifier\n",
    "\n",
    "reg = LGBMRegressor()\n",
    "reg.fit(X_reg, y_reg.loc[:,[\"acp\"]])\n",
    "r2_score(y_test.loc[:,[\"acp\"]], reg.predict(X_test))"
   ]
  },
  {
   "cell_type": "code",
   "execution_count": null,
   "metadata": {},
   "outputs": [],
   "source": [
    "import matplotlib.pyplot as plt\n",
    "from sklearn.inspection import permutation_importance\n",
    "\n",
    "results = permutation_importance(reg, X_test, y_test)\n",
    "lgbm_mu = pd.Series(results.importances_mean, index=X_train.columns)\n",
    "lgbm_std = pd.Series(results.importances_std, index=X_train.columns)\n",
    "\n",
    "fig, ax = plt.subplots(figsize=(15,10))\n",
    "ind = lgbm_mu.sort_values().tail(100).index\n",
    "lgbm_mu[ind].plot.bar(yerr=lgbm_std[ind], ax=ax)\n",
    "ax.set_title(\"Feature importances using permutation on full model\")\n",
    "ax.set_ylabel(\"Mean accuracy decrease\")\n",
    "fig.tight_layout()\n",
    "plt.show()"
   ]
  },
  {
   "cell_type": "code",
   "execution_count": null,
   "metadata": {},
   "outputs": [],
   "source": [
    "acp = sp.groupby([\"user_id\",\"week_step\"], as_index=False).mean()\n",
    "acp = acp.sort_values(\"week_step\", ascending=False)\n",
    "acp[\"prev_acp\"] = acp.groupby(\"user_id\", as_index=False).acp.shift(1)\n",
    "reg_data = data.merge(acp, on=[\"user_id\", \"week_step\"], how=\"inner\")\n",
    "\n",
    "from sklearn.pipeline import Pipeline\n",
    "from sklearn.feature_selection import VarianceThreshold, SelectKBest\n",
    "from sklearn.preprocessing import PolynomialFeatures\n",
    "from lightgbm import LGBMRegressor, LGBMClassifier\n",
    "from category_encoders.target_encoder import TargetEncoder\n",
    "\n",
    "pipe_reg = Pipeline([(\"vt\", TargetEncoder(cols=list(range(100)), min_samples_leaf=1, smoothing=10.0)),\n",
    "    (\"reg\", LGBMRegressor(learning_rate=0.01))])\n",
    "\n",
    "pipe_clf = Pipeline([(\"vt\", TargetEncoder(cols=list(range(100)), min_samples_leaf=1, smoothing=10.0)),\n",
    "    (\"reg\", LGBMClassifier(learning_rate=0.01))])\n",
    "\n",
    "\n",
    "train_filter = (reg_data.week_step>2) & (reg_data.week_step<10)\n",
    "test_filter = (reg_data.week_step==2)\n",
    "X_train = reg_data.loc[train_filter,feat_cols]\n",
    "X_train_reg = np.column_stack([lgbm.predict(X_train, pred_leaf=True), lgbm.predict_proba(X_train)[:,1]])\n",
    "\n",
    "#X_train[\"proba\"] = lgbm.predict_proba(X_train)[:,1]\n",
    "#X_train[\"prev_cap\"] = reg_data.loc[train_filter,\"prev_target_cap\"]\n",
    "#X_train[\"prev_acp\"] = reg_data.loc[train_filter,\"prev_acp\"]\n",
    "y_train = reg_data.loc[train_filter,\"acp\"].clip(-1000,50000)\n",
    "\n",
    "X_test = reg_data.loc[test_filter,feat_cols]\n",
    "#X_test[\"proba\"] = lgbm.predict_proba(X_test)[:,1]\n",
    "#X_test[\"prev_cap\"] = reg_data.loc[test_filter,\"prev_target_cap\"]\n",
    "#X_test[\"prev_acp\"] = reg_data.loc[test_filter,\"prev_acp\"]\n",
    "X_test_reg = np.column_stack([lgbm.predict(X_test, pred_leaf=True), lgbm.predict_proba(X_test)[:,1]])\n",
    "y_test = reg_data.loc[test_filter,\"acp\"].clip(-1000,50000)\n",
    "pipe_reg.fit(X_train_reg, y_train)\n",
    "\n",
    "from sklearn.metrics import r2_score, mean_squared_error\n",
    "r2_score(y_test, pipe_reg.predict(X_test_reg))"
   ]
  },
  {
   "cell_type": "code",
   "execution_count": null,
   "metadata": {},
   "outputs": [],
   "source": [
    "y_train = (reg_data.loc[reg_data.week_step>2,\"acp\"]>0).astype(\"int\")\n",
    "y_test = (reg_data.loc[reg_data.week_step==2,\"acp\"]>0).astype(\"int\")\n",
    "pipe_clf.fit(X_train_reg, y_train)\n",
    "\n",
    "from sklearn.metrics import f1_score\n",
    "f1_score(y_test, pipe_clf.predict(X_test_reg))"
   ]
  },
  {
   "cell_type": "code",
   "execution_count": null,
   "metadata": {},
   "outputs": [],
   "source": [
    "meh = pd.DataFrame.from_dict({\"y\":reg_data.loc[reg_data.week_step==2,\"acp\"].clip(-1000,25000), \"y_pred\":pipe_clf.predict_proba(X_test_reg)[:,1]*pipe_reg.predict(X_test_reg)})\n",
    "meh = meh.sort_values(\"y_pred\", ascending=False).reset_index(drop=True)\n",
    "meh.y.cumsum()[meh.y_pred.cumsum().idxmax()]"
   ]
  }
 ],
 "metadata": {
  "kernelspec": {
   "display_name": "Python 3.8.10 ('.env': venv)",
   "language": "python",
   "name": "python3"
  },
  "language_info": {
   "codemirror_mode": {
    "name": "ipython",
    "version": 3
   },
   "file_extension": ".py",
   "mimetype": "text/x-python",
   "name": "python",
   "nbconvert_exporter": "python",
   "pygments_lexer": "ipython3",
   "version": "3.8.10"
  },
  "orig_nbformat": 4,
  "vscode": {
   "interpreter": {
    "hash": "0302efd4727f45c27e6e7330619db7bcf8ae8a56f076c44e120407f8390c5d65"
   }
  }
 },
 "nbformat": 4,
 "nbformat_minor": 2
}
