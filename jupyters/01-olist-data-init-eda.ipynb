{
 "cells": [
  {
   "cell_type": "markdown",
   "metadata": {},
   "source": [
    "> Martin Fridrich 03/2022\n",
    "\n",
    "# Initial exploratory data analysis - Olist dataset\n",
    "\n",
    "\n",
    "\n",
    "### Goals\n",
    "\n",
    "We strive to examine the sales part of the dataset in such a way, so we can design and implement a meaningful processing pipeline and use the results in downstream models. To meet the goal, we analyze the size + packaging (num of records, cols, dtypes, memory requirements, coverage amongst the tables) and explore a few business aspects (basic stats, outliers, trends, customer & supplier & item, demand curve).\n",
    "\n",
    "### Document structure\n",
    "\n",
    "### Olist data model\n",
    "<img src=\"imgs/olist-data-model.png\" width=\"800\"/>\n"
   ]
  },
  {
   "cell_type": "markdown",
   "metadata": {},
   "source": [
    "# Data loading"
   ]
  },
  {
   "cell_type": "code",
   "execution_count": 5,
   "metadata": {},
   "outputs": [],
   "source": [
    "import pandas as pd"
   ]
  }
 ],
 "metadata": {
  "interpreter": {
   "hash": "78f541d2ce529b630cdc96c7c32eb4a5a175871233e2dcc03350c8ccd9d2e580"
  },
  "kernelspec": {
   "display_name": "Python 3.8.10 ('py-env': venv)",
   "language": "python",
   "name": "python3"
  },
  "language_info": {
   "codemirror_mode": {
    "name": "ipython",
    "version": 3
   },
   "file_extension": ".py",
   "mimetype": "text/x-python",
   "name": "python",
   "nbconvert_exporter": "python",
   "pygments_lexer": "ipython3",
   "version": "3.8.10"
  },
  "orig_nbformat": 4
 },
 "nbformat": 4,
 "nbformat_minor": 2
}
