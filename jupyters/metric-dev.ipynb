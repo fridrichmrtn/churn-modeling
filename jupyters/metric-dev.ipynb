{
 "cells": [
  {
   "cell_type": "code",
   "execution_count": 105,
   "metadata": {},
   "outputs": [],
   "source": [
    "import numpy as np\n",
    "from itertools import combinations\n",
    "from scipy.stats import spearmanr\n",
    "\n",
    "features = np.transpose(np.array([[0,1,2,3],[4,5,6,7],[8,11,10,11]]))\n",
    "target = np.transpose(np.array([[8,6,9,7]]))\n",
    "data = np.append(features, target, axis=1)\n",
    "\n",
    "target_ind = data.shape[1]-1\n",
    "column_inds = list(range(data.shape[1]))\n",
    "\n",
    "combs = list(combinations(column_inds, 2))\n",
    "corr_mat = [] # i1, i2, r, p\n",
    "corr_dt = [(\"from\", int), (\"to\", int), (\"rho\", float), (\"p\", float)]\n",
    "for pc in combs:\n",
    "    r, p = spearmanr(data[:,pc[0]],data[:,pc[1]])\n",
    "    corr_mat.append((pc[0], pc[1], r, p))\n",
    "corr_mat = np.array(corr_mat, dtype=corr_dt)\n",
    "signifi_mask = corr_mat[:,-1]<0.05/(len(column_inds)-1)"
   ]
  }
 ],
 "metadata": {
  "interpreter": {
   "hash": "0302efd4727f45c27e6e7330619db7bcf8ae8a56f076c44e120407f8390c5d65"
  },
  "kernelspec": {
   "display_name": "Python 3.8.10 ('.env': venv)",
   "language": "python",
   "name": "python3"
  },
  "language_info": {
   "codemirror_mode": {
    "name": "ipython",
    "version": 3
   },
   "file_extension": ".py",
   "mimetype": "text/x-python",
   "name": "python",
   "nbconvert_exporter": "python",
   "pygments_lexer": "ipython3",
   "version": "3.8.10"
  },
  "orig_nbformat": 4
 },
 "nbformat": 4,
 "nbformat_minor": 2
}
